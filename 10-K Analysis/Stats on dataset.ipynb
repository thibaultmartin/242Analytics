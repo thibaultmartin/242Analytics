{
 "cells": [
  {
   "cell_type": "code",
   "execution_count": 2,
   "metadata": {
    "collapsed": true
   },
   "outputs": [],
   "source": [
    "import numpy as np\n",
    "import pandas as pd\n",
    "from sklearn.feature_extraction.text import CountVectorizer"
   ]
  },
  {
   "cell_type": "code",
   "execution_count": 3,
   "metadata": {
    "collapsed": false
   },
   "outputs": [
    {
     "data": {
      "text/html": [
       "<div>\n",
       "<table border=\"1\" class=\"dataframe\">\n",
       "  <thead>\n",
       "    <tr style=\"text-align: right;\">\n",
       "      <th></th>\n",
       "      <th>Unnamed: 0</th>\n",
       "      <th>Unnamed: 0.1</th>\n",
       "      <th>gvkey</th>\n",
       "      <th>datadate</th>\n",
       "      <th>fyear</th>\n",
       "      <th>indfmt</th>\n",
       "      <th>consol</th>\n",
       "      <th>popsrc</th>\n",
       "      <th>datafmt</th>\n",
       "      <th>tic</th>\n",
       "      <th>...</th>\n",
       "      <th>d_RoE</th>\n",
       "      <th>d_Net_Profit_Margin</th>\n",
       "      <th>d_Asset_turnover</th>\n",
       "      <th>d_Financial_leverage</th>\n",
       "      <th>filename</th>\n",
       "      <th>MDA</th>\n",
       "      <th>d_RoE_pos</th>\n",
       "      <th>d_Net_Profit_Margin_pos</th>\n",
       "      <th>d_Asset_turnover_pos</th>\n",
       "      <th>d_Financial_leverage_pos</th>\n",
       "    </tr>\n",
       "  </thead>\n",
       "  <tbody>\n",
       "    <tr>\n",
       "      <th>0</th>\n",
       "      <td>0</td>\n",
       "      <td>55</td>\n",
       "      <td>1209</td>\n",
       "      <td>19970930</td>\n",
       "      <td>1997</td>\n",
       "      <td>INDL</td>\n",
       "      <td>C</td>\n",
       "      <td>D</td>\n",
       "      <td>STD</td>\n",
       "      <td>APD</td>\n",
       "      <td>...</td>\n",
       "      <td>389615.46</td>\n",
       "      <td>0.009571</td>\n",
       "      <td>0.025682</td>\n",
       "      <td>0.201784</td>\n",
       "      <td>APD_1997-12-11</td>\n",
       "      <td>ITEM    MANAGEMENT S DISCUSSION AND ANALYSIS O...</td>\n",
       "      <td>1</td>\n",
       "      <td>1</td>\n",
       "      <td>1</td>\n",
       "      <td>1</td>\n",
       "    </tr>\n",
       "    <tr>\n",
       "      <th>1</th>\n",
       "      <td>1</td>\n",
       "      <td>56</td>\n",
       "      <td>1209</td>\n",
       "      <td>19980930</td>\n",
       "      <td>1998</td>\n",
       "      <td>INDL</td>\n",
       "      <td>C</td>\n",
       "      <td>D</td>\n",
       "      <td>STD</td>\n",
       "      <td>APD</td>\n",
       "      <td>...</td>\n",
       "      <td>352463.28</td>\n",
       "      <td>0.017396</td>\n",
       "      <td>0.016560</td>\n",
       "      <td>0.072349</td>\n",
       "      <td>APD_1998-12-16</td>\n",
       "      <td>ITEM     MANAGEMENT S DISCUSSION AND ANALYSIS ...</td>\n",
       "      <td>1</td>\n",
       "      <td>1</td>\n",
       "      <td>1</td>\n",
       "      <td>1</td>\n",
       "    </tr>\n",
       "    <tr>\n",
       "      <th>2</th>\n",
       "      <td>2</td>\n",
       "      <td>57</td>\n",
       "      <td>1209</td>\n",
       "      <td>19990930</td>\n",
       "      <td>1999</td>\n",
       "      <td>INDL</td>\n",
       "      <td>C</td>\n",
       "      <td>D</td>\n",
       "      <td>STD</td>\n",
       "      <td>APD</td>\n",
       "      <td>...</td>\n",
       "      <td>-36519.78</td>\n",
       "      <td>-0.021897</td>\n",
       "      <td>-0.047209</td>\n",
       "      <td>-0.027173</td>\n",
       "      <td>APD_1999-12-16</td>\n",
       "      <td>ITEM     Management s Discussion and Analysis ...</td>\n",
       "      <td>0</td>\n",
       "      <td>0</td>\n",
       "      <td>0</td>\n",
       "      <td>0</td>\n",
       "    </tr>\n",
       "    <tr>\n",
       "      <th>3</th>\n",
       "      <td>3</td>\n",
       "      <td>58</td>\n",
       "      <td>1209</td>\n",
       "      <td>20000930</td>\n",
       "      <td>2000</td>\n",
       "      <td>INDL</td>\n",
       "      <td>C</td>\n",
       "      <td>D</td>\n",
       "      <td>STD</td>\n",
       "      <td>APD</td>\n",
       "      <td>...</td>\n",
       "      <td>217706.72</td>\n",
       "      <td>0.008933</td>\n",
       "      <td>0.051468</td>\n",
       "      <td>0.150690</td>\n",
       "      <td>APD_2000-12-18</td>\n",
       "      <td>ITEM    Management s Discussion and Analysis o...</td>\n",
       "      <td>1</td>\n",
       "      <td>1</td>\n",
       "      <td>1</td>\n",
       "      <td>1</td>\n",
       "    </tr>\n",
       "    <tr>\n",
       "      <th>4</th>\n",
       "      <td>4</td>\n",
       "      <td>59</td>\n",
       "      <td>1209</td>\n",
       "      <td>20010930</td>\n",
       "      <td>2001</td>\n",
       "      <td>INDL</td>\n",
       "      <td>C</td>\n",
       "      <td>D</td>\n",
       "      <td>STD</td>\n",
       "      <td>APD</td>\n",
       "      <td>...</td>\n",
       "      <td>137463.02</td>\n",
       "      <td>-0.012285</td>\n",
       "      <td>0.046179</td>\n",
       "      <td>-0.328546</td>\n",
       "      <td>APD_2001-12-14</td>\n",
       "      <td>ITEM     Management s Discussion and Analysis ...</td>\n",
       "      <td>1</td>\n",
       "      <td>0</td>\n",
       "      <td>1</td>\n",
       "      <td>0</td>\n",
       "    </tr>\n",
       "  </tbody>\n",
       "</table>\n",
       "<p>5 rows × 36 columns</p>\n",
       "</div>"
      ],
      "text/plain": [
       "   Unnamed: 0  Unnamed: 0.1  gvkey  datadate  fyear indfmt consol popsrc  \\\n",
       "0           0            55   1209  19970930   1997   INDL      C      D   \n",
       "1           1            56   1209  19980930   1998   INDL      C      D   \n",
       "2           2            57   1209  19990930   1999   INDL      C      D   \n",
       "3           3            58   1209  20000930   2000   INDL      C      D   \n",
       "4           4            59   1209  20010930   2001   INDL      C      D   \n",
       "\n",
       "  datafmt  tic            ...                 d_RoE d_Net_Profit_Margin  \\\n",
       "0     STD  APD            ...             389615.46            0.009571   \n",
       "1     STD  APD            ...             352463.28            0.017396   \n",
       "2     STD  APD            ...             -36519.78           -0.021897   \n",
       "3     STD  APD            ...             217706.72            0.008933   \n",
       "4     STD  APD            ...             137463.02           -0.012285   \n",
       "\n",
       "  d_Asset_turnover  d_Financial_leverage        filename  \\\n",
       "0         0.025682              0.201784  APD_1997-12-11   \n",
       "1         0.016560              0.072349  APD_1998-12-16   \n",
       "2        -0.047209             -0.027173  APD_1999-12-16   \n",
       "3         0.051468              0.150690  APD_2000-12-18   \n",
       "4         0.046179             -0.328546  APD_2001-12-14   \n",
       "\n",
       "                                                 MDA  d_RoE_pos  \\\n",
       "0  ITEM    MANAGEMENT S DISCUSSION AND ANALYSIS O...          1   \n",
       "1  ITEM     MANAGEMENT S DISCUSSION AND ANALYSIS ...          1   \n",
       "2  ITEM     Management s Discussion and Analysis ...          0   \n",
       "3  ITEM    Management s Discussion and Analysis o...          1   \n",
       "4  ITEM     Management s Discussion and Analysis ...          1   \n",
       "\n",
       "   d_Net_Profit_Margin_pos  d_Asset_turnover_pos  d_Financial_leverage_pos  \n",
       "0                        1                     1                         1  \n",
       "1                        1                     1                         1  \n",
       "2                        0                     0                         0  \n",
       "3                        1                     1                         1  \n",
       "4                        0                     1                         0  \n",
       "\n",
       "[5 rows x 36 columns]"
      ]
     },
     "execution_count": 3,
     "metadata": {},
     "output_type": "execute_result"
    }
   ],
   "source": [
    "# Dataframe data: contient toutes les infos/métriques + mda\n",
    "# Dataframe counts: contient chaque mot et sa fréquence dans chaque document\n",
    "data = pd.read_csv('C:/Users/Camille/Documents/Berkeley/242/final.csv')\n",
    "data['d_RoE_pos']=(data['d_RoE']>0)*[1]\n",
    "data['d_Net_Profit_Margin_pos']=(data['d_Net_Profit_Margin']>0)*[1]\n",
    "data['d_Asset_turnover_pos']=(data['d_Asset_turnover']>0)*[1]\n",
    "data['d_Financial_leverage_pos']=(data['d_Financial_leverage']>0)*[1]\n",
    "data.to_csv('C:/Users/Camille/Documents/Berkeley/242/final_labeled.csv')\n",
    "data.head(n=5)"
   ]
  },
  {
   "cell_type": "code",
   "execution_count": 4,
   "metadata": {
    "collapsed": false
   },
   "outputs": [
    {
     "data": {
      "text/plain": [
       "1722"
      ]
     },
     "execution_count": 4,
     "metadata": {},
     "output_type": "execute_result"
    }
   ],
   "source": [
    "data.dropna(inplace=True)\n",
    "len(data)"
   ]
  },
  {
   "cell_type": "code",
   "execution_count": 5,
   "metadata": {
    "collapsed": false
   },
   "outputs": [
    {
     "name": "stdout",
     "output_type": "stream",
     "text": [
      "0.59756097561\n",
      "0.552264808362\n",
      "0.485481997677\n",
      "0.505226480836\n"
     ]
    }
   ],
   "source": [
    "print(np.float(np.sum(data['d_RoE_pos']))/len(data))\n",
    "print(np.float(np.sum(data['d_Asset_turnover_pos']))/len(data))\n",
    "print(np.float(np.sum(data['d_Financial_leverage_pos']))/len(data))\n",
    "print(np.float(np.sum(data['d_Net_Profit_Margin_pos']))/len(data))"
   ]
  },
  {
   "cell_type": "code",
   "execution_count": 6,
   "metadata": {
    "collapsed": false
   },
   "outputs": [
    {
     "data": {
      "text/plain": [
       "1994      6\n",
       "1995     14\n",
       "1996     28\n",
       "1997     34\n",
       "1998     50\n",
       "1999     64\n",
       "2000     79\n",
       "2001     93\n",
       "2002     93\n",
       "2003     96\n",
       "2004     91\n",
       "2005     93\n",
       "2006     93\n",
       "2007     96\n",
       "2008     92\n",
       "2009    106\n",
       "2010    107\n",
       "2011    107\n",
       "2012    105\n",
       "2013    107\n",
       "2014    106\n",
       "2015     62\n",
       "dtype: float64"
      ]
     },
     "execution_count": 6,
     "metadata": {},
     "output_type": "execute_result"
    }
   ],
   "source": [
    "np.sum(data['fyear'].apply(pd.value_counts).fillna(0))"
   ]
  },
  {
   "cell_type": "code",
   "execution_count": 13,
   "metadata": {
    "collapsed": false
   },
   "outputs": [
    {
     "name": "stdout",
     "output_type": "stream",
     "text": [
      "AA       15\n",
      "ADMGQ     5\n",
      "AEPI     15\n",
      "AETCQ     7\n",
      "AHNCQ     6\n",
      "AKS      17\n",
      "ALJJ      3\n",
      "AMNL      4\n",
      "APD      19\n",
      "APFC     14\n",
      "AREM      3\n",
      "AROX      1\n",
      "ASH      10\n",
      "ATI      15\n",
      "ATMR      3\n",
      "ATPL     12\n",
      "ATR      18\n",
      "AUMN      5\n",
      "AVD      13\n",
      "AVY      17\n",
      "AXTA      1\n",
      "AYSI      1\n",
      "BCC       3\n",
      "BDLS      7\n",
      "BERY      2\n",
      "BLL      17\n",
      "BMIX      2\n",
      "BMS      12\n",
      "BPMI      8\n",
      "CADC      7\n",
      "         ..\n",
      "SWM      11\n",
      "SWTX      8\n",
      "SXC       4\n",
      "SXCP      3\n",
      "SXT      16\n",
      "TDYT      1\n",
      "TGLS      2\n",
      "TIN      17\n",
      "TORM      8\n",
      "TRA      13\n",
      "TROX      3\n",
      "UAMY      6\n",
      "UFS       8\n",
      "UNRG      5\n",
      "USLM     17\n",
      "VAL      17\n",
      "VHI      14\n",
      "VKSC     10\n",
      "VMC       8\n",
      "VULC      7\n",
      "WEBC      9\n",
      "WLKP      1\n",
      "WMSI      5\n",
      "WPP      14\n",
      "X        14\n",
      "XPL       8\n",
      "YECO      1\n",
      "ZEP       8\n",
      "ZEUS     18\n",
      "ZOLT      6\n",
      "dtype: float64\n"
     ]
    }
   ],
   "source": [
    "firm=np.sum(data['tic'].apply(pd.value_counts).fillna(0))\n",
    "print(firm)"
   ]
  },
  {
   "cell_type": "code",
   "execution_count": 21,
   "metadata": {
    "collapsed": false
   },
   "outputs": [
    {
     "data": {
      "text/plain": [
       "19.0"
      ]
     },
     "execution_count": 21,
     "metadata": {},
     "output_type": "execute_result"
    }
   ],
   "source": [
    "firm.max()"
   ]
  },
  {
   "cell_type": "code",
   "execution_count": 22,
   "metadata": {
    "collapsed": false
   },
   "outputs": [
    {
     "data": {
      "text/plain": [
       "1.0"
      ]
     },
     "execution_count": 22,
     "metadata": {},
     "output_type": "execute_result"
    }
   ],
   "source": [
    "firm.min()"
   ]
  },
  {
   "cell_type": "code",
   "execution_count": 33,
   "metadata": {
    "collapsed": false
   },
   "outputs": [
    {
     "data": {
      "text/plain": [
       "APD     19\n",
       "SHLM    19\n",
       "FRD     18\n",
       "RPM     18\n",
       "MLM     18\n",
       "GNI     18\n",
       "ZEUS    18\n",
       "ATR     18\n",
       "SHW     18\n",
       "GEF     17\n",
       "dtype: float64"
      ]
     },
     "execution_count": 33,
     "metadata": {},
     "output_type": "execute_result"
    }
   ],
   "source": [
    "firm.sort_values(ascending=False)[:10]"
   ]
  },
  {
   "cell_type": "code",
   "execution_count": 34,
   "metadata": {
    "collapsed": false
   },
   "outputs": [
    {
     "data": {
      "text/plain": [
       "PDH     1\n",
       "YECO    1\n",
       "RMMI    1\n",
       "WLKP    1\n",
       "GRM     1\n",
       "HYDI    1\n",
       "AYSI    1\n",
       "AXTA    1\n",
       "MDOR    1\n",
       "MBII    1\n",
       "dtype: float64"
      ]
     },
     "execution_count": 34,
     "metadata": {},
     "output_type": "execute_result"
    }
   ],
   "source": [
    "firm.sort_values(ascending=True)[:10]"
   ]
  },
  {
   "cell_type": "code",
   "execution_count": 36,
   "metadata": {
    "collapsed": false
   },
   "outputs": [
    {
     "data": {
      "text/plain": [
       "9.40983606557377"
      ]
     },
     "execution_count": 36,
     "metadata": {},
     "output_type": "execute_result"
    }
   ],
   "source": [
    "firm.mean()"
   ]
  },
  {
   "cell_type": "code",
   "execution_count": 37,
   "metadata": {
    "collapsed": false
   },
   "outputs": [
    {
     "data": {
      "text/plain": [
       "183"
      ]
     },
     "execution_count": 37,
     "metadata": {},
     "output_type": "execute_result"
    }
   ],
   "source": [
    "len(firm)"
   ]
  },
  {
   "cell_type": "code",
   "execution_count": 39,
   "metadata": {
    "collapsed": false
   },
   "outputs": [
    {
     "data": {
      "text/plain": [
       "5.323729944543429"
      ]
     },
     "execution_count": 39,
     "metadata": {},
     "output_type": "execute_result"
    }
   ],
   "source": [
    "firm.std()"
   ]
  },
  {
   "cell_type": "code",
   "execution_count": null,
   "metadata": {
    "collapsed": true
   },
   "outputs": [],
   "source": []
  }
 ],
 "metadata": {
  "kernelspec": {
   "display_name": "Python 2",
   "language": "python",
   "name": "python2"
  },
  "language_info": {
   "codemirror_mode": {
    "name": "ipython",
    "version": 2
   },
   "file_extension": ".py",
   "mimetype": "text/x-python",
   "name": "python",
   "nbconvert_exporter": "python",
   "pygments_lexer": "ipython2",
   "version": "2.7.11"
  }
 },
 "nbformat": 4,
 "nbformat_minor": 0
}
