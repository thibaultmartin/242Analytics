{
 "cells": [
  {
   "cell_type": "code",
   "execution_count": 57,
   "metadata": {
    "collapsed": true
   },
   "outputs": [],
   "source": [
    "import numpy as np\n",
    "import pandas as pd\n",
    "from sklearn.feature_extraction.text import CountVectorizer"
   ]
  },
  {
   "cell_type": "code",
   "execution_count": 67,
   "metadata": {
    "collapsed": false
   },
   "outputs": [
    {
     "data": {
      "text/html": [
       "<div>\n",
       "<table border=\"1\" class=\"dataframe\">\n",
       "  <thead>\n",
       "    <tr style=\"text-align: right;\">\n",
       "      <th></th>\n",
       "      <th>Unnamed: 0</th>\n",
       "      <th>Unnamed: 0.1</th>\n",
       "      <th>gvkey</th>\n",
       "      <th>datadate</th>\n",
       "      <th>fyear</th>\n",
       "      <th>indfmt</th>\n",
       "      <th>consol</th>\n",
       "      <th>popsrc</th>\n",
       "      <th>datafmt</th>\n",
       "      <th>tic</th>\n",
       "      <th>...</th>\n",
       "      <th>d_RoE</th>\n",
       "      <th>d_Net_Profit_Margin</th>\n",
       "      <th>d_Asset_turnover</th>\n",
       "      <th>d_Financial_leverage</th>\n",
       "      <th>filename</th>\n",
       "      <th>MDA</th>\n",
       "      <th>d_RoE_pos</th>\n",
       "      <th>d_Net_Profit_Margin_pos</th>\n",
       "      <th>d_Asset_turnover_pos</th>\n",
       "      <th>d_Financial_leverage_pos</th>\n",
       "    </tr>\n",
       "  </thead>\n",
       "  <tbody>\n",
       "    <tr>\n",
       "      <th>0</th>\n",
       "      <td>0</td>\n",
       "      <td>55</td>\n",
       "      <td>1209</td>\n",
       "      <td>19970930</td>\n",
       "      <td>1997</td>\n",
       "      <td>INDL</td>\n",
       "      <td>C</td>\n",
       "      <td>D</td>\n",
       "      <td>STD</td>\n",
       "      <td>APD</td>\n",
       "      <td>...</td>\n",
       "      <td>389615.46</td>\n",
       "      <td>0.009571</td>\n",
       "      <td>0.025682</td>\n",
       "      <td>0.201784</td>\n",
       "      <td>APD_1997-12-11</td>\n",
       "      <td>ITEM    MANAGEMENT S DISCUSSION AND ANALYSIS O...</td>\n",
       "      <td>1</td>\n",
       "      <td>1</td>\n",
       "      <td>1</td>\n",
       "      <td>1</td>\n",
       "    </tr>\n",
       "    <tr>\n",
       "      <th>1</th>\n",
       "      <td>1</td>\n",
       "      <td>56</td>\n",
       "      <td>1209</td>\n",
       "      <td>19980930</td>\n",
       "      <td>1998</td>\n",
       "      <td>INDL</td>\n",
       "      <td>C</td>\n",
       "      <td>D</td>\n",
       "      <td>STD</td>\n",
       "      <td>APD</td>\n",
       "      <td>...</td>\n",
       "      <td>352463.28</td>\n",
       "      <td>0.017396</td>\n",
       "      <td>0.016560</td>\n",
       "      <td>0.072349</td>\n",
       "      <td>APD_1998-12-16</td>\n",
       "      <td>ITEM     MANAGEMENT S DISCUSSION AND ANALYSIS ...</td>\n",
       "      <td>1</td>\n",
       "      <td>1</td>\n",
       "      <td>1</td>\n",
       "      <td>1</td>\n",
       "    </tr>\n",
       "    <tr>\n",
       "      <th>2</th>\n",
       "      <td>2</td>\n",
       "      <td>57</td>\n",
       "      <td>1209</td>\n",
       "      <td>19990930</td>\n",
       "      <td>1999</td>\n",
       "      <td>INDL</td>\n",
       "      <td>C</td>\n",
       "      <td>D</td>\n",
       "      <td>STD</td>\n",
       "      <td>APD</td>\n",
       "      <td>...</td>\n",
       "      <td>-36519.78</td>\n",
       "      <td>-0.021897</td>\n",
       "      <td>-0.047209</td>\n",
       "      <td>-0.027173</td>\n",
       "      <td>APD_1999-12-16</td>\n",
       "      <td>ITEM     Management s Discussion and Analysis ...</td>\n",
       "      <td>0</td>\n",
       "      <td>0</td>\n",
       "      <td>0</td>\n",
       "      <td>0</td>\n",
       "    </tr>\n",
       "    <tr>\n",
       "      <th>3</th>\n",
       "      <td>3</td>\n",
       "      <td>58</td>\n",
       "      <td>1209</td>\n",
       "      <td>20000930</td>\n",
       "      <td>2000</td>\n",
       "      <td>INDL</td>\n",
       "      <td>C</td>\n",
       "      <td>D</td>\n",
       "      <td>STD</td>\n",
       "      <td>APD</td>\n",
       "      <td>...</td>\n",
       "      <td>217706.72</td>\n",
       "      <td>0.008933</td>\n",
       "      <td>0.051468</td>\n",
       "      <td>0.150690</td>\n",
       "      <td>APD_2000-12-18</td>\n",
       "      <td>ITEM    Management s Discussion and Analysis o...</td>\n",
       "      <td>1</td>\n",
       "      <td>1</td>\n",
       "      <td>1</td>\n",
       "      <td>1</td>\n",
       "    </tr>\n",
       "    <tr>\n",
       "      <th>4</th>\n",
       "      <td>4</td>\n",
       "      <td>59</td>\n",
       "      <td>1209</td>\n",
       "      <td>20010930</td>\n",
       "      <td>2001</td>\n",
       "      <td>INDL</td>\n",
       "      <td>C</td>\n",
       "      <td>D</td>\n",
       "      <td>STD</td>\n",
       "      <td>APD</td>\n",
       "      <td>...</td>\n",
       "      <td>137463.02</td>\n",
       "      <td>-0.012285</td>\n",
       "      <td>0.046179</td>\n",
       "      <td>-0.328546</td>\n",
       "      <td>APD_2001-12-14</td>\n",
       "      <td>ITEM     Management s Discussion and Analysis ...</td>\n",
       "      <td>1</td>\n",
       "      <td>0</td>\n",
       "      <td>1</td>\n",
       "      <td>0</td>\n",
       "    </tr>\n",
       "  </tbody>\n",
       "</table>\n",
       "<p>5 rows × 36 columns</p>\n",
       "</div>"
      ],
      "text/plain": [
       "   Unnamed: 0  Unnamed: 0.1  gvkey  datadate  fyear indfmt consol popsrc  \\\n",
       "0           0            55   1209  19970930   1997   INDL      C      D   \n",
       "1           1            56   1209  19980930   1998   INDL      C      D   \n",
       "2           2            57   1209  19990930   1999   INDL      C      D   \n",
       "3           3            58   1209  20000930   2000   INDL      C      D   \n",
       "4           4            59   1209  20010930   2001   INDL      C      D   \n",
       "\n",
       "  datafmt  tic            ...                 d_RoE d_Net_Profit_Margin  \\\n",
       "0     STD  APD            ...             389615.46            0.009571   \n",
       "1     STD  APD            ...             352463.28            0.017396   \n",
       "2     STD  APD            ...             -36519.78           -0.021897   \n",
       "3     STD  APD            ...             217706.72            0.008933   \n",
       "4     STD  APD            ...             137463.02           -0.012285   \n",
       "\n",
       "  d_Asset_turnover  d_Financial_leverage        filename  \\\n",
       "0         0.025682              0.201784  APD_1997-12-11   \n",
       "1         0.016560              0.072349  APD_1998-12-16   \n",
       "2        -0.047209             -0.027173  APD_1999-12-16   \n",
       "3         0.051468              0.150690  APD_2000-12-18   \n",
       "4         0.046179             -0.328546  APD_2001-12-14   \n",
       "\n",
       "                                                 MDA  d_RoE_pos  \\\n",
       "0  ITEM    MANAGEMENT S DISCUSSION AND ANALYSIS O...          1   \n",
       "1  ITEM     MANAGEMENT S DISCUSSION AND ANALYSIS ...          1   \n",
       "2  ITEM     Management s Discussion and Analysis ...          0   \n",
       "3  ITEM    Management s Discussion and Analysis o...          1   \n",
       "4  ITEM     Management s Discussion and Analysis ...          1   \n",
       "\n",
       "   d_Net_Profit_Margin_pos  d_Asset_turnover_pos  d_Financial_leverage_pos  \n",
       "0                        1                     1                         1  \n",
       "1                        1                     1                         1  \n",
       "2                        0                     0                         0  \n",
       "3                        1                     1                         1  \n",
       "4                        0                     1                         0  \n",
       "\n",
       "[5 rows x 36 columns]"
      ]
     },
     "execution_count": 67,
     "metadata": {},
     "output_type": "execute_result"
    }
   ],
   "source": [
    "# Dataframe data: contient toutes les infos/métriques + mda\n",
    "# Dataframe counts: contient chaque mot et sa fréquence dans chaque document\n",
    "data = pd.read_csv('C:/Users/Camille/Documents/Berkeley/242/final.csv')\n",
    "data['d_RoE_pos']=(data['d_RoE']>0)*[1]\n",
    "data['d_Net_Profit_Margin_pos']=(data['d_Net_Profit_Margin']>0)*[1]\n",
    "data['d_Asset_turnover_pos']=(data['d_Asset_turnover']>0)*[1]\n",
    "data['d_Financial_leverage_pos']=(data['d_Financial_leverage']>0)*[1]\n",
    "data.to_csv('C:/Users/Camille/Documents/Berkeley/242/final_labeled.csv')\n",
    "data.head(n=5)"
   ]
  },
  {
   "cell_type": "code",
   "execution_count": null,
   "metadata": {
    "collapsed": false
   },
   "outputs": [],
   "source": []
  },
  {
   "cell_type": "code",
   "execution_count": 68,
   "metadata": {
    "collapsed": false
   },
   "outputs": [
    {
     "data": {
      "text/plain": [
       "1722"
      ]
     },
     "execution_count": 68,
     "metadata": {},
     "output_type": "execute_result"
    }
   ],
   "source": [
    "data.dropna(inplace=True)\n",
    "len(data)"
   ]
  },
  {
   "cell_type": "code",
   "execution_count": 69,
   "metadata": {
    "collapsed": false
   },
   "outputs": [
    {
     "name": "stdout",
     "output_type": "stream",
     "text": [
      "0.59756097561\n",
      "0.552264808362\n",
      "0.485481997677\n",
      "0.505226480836\n"
     ]
    }
   ],
   "source": [
    "print(np.float(np.sum(data['d_RoE_pos']))/len(data))\n",
    "print(np.float(np.sum(data['d_Asset_turnover_pos']))/len(data))\n",
    "print(np.float(np.sum(data['d_Financial_leverage_pos']))/len(data))\n",
    "print(np.float(np.sum(data['d_Net_Profit_Margin_pos']))/len(data))"
   ]
  },
  {
   "cell_type": "code",
   "execution_count": 70,
   "metadata": {
    "collapsed": false
   },
   "outputs": [
    {
     "data": {
      "text/plain": [
       "1994      6\n",
       "1995     14\n",
       "1996     28\n",
       "1997     34\n",
       "1998     50\n",
       "1999     64\n",
       "2000     79\n",
       "2001     93\n",
       "2002     93\n",
       "2003     96\n",
       "2004     91\n",
       "2005     93\n",
       "2006     93\n",
       "2007     96\n",
       "2008     92\n",
       "2009    106\n",
       "2010    107\n",
       "2011    107\n",
       "2012    105\n",
       "2013    107\n",
       "2014    106\n",
       "2015     62\n",
       "dtype: float64"
      ]
     },
     "execution_count": 70,
     "metadata": {},
     "output_type": "execute_result"
    }
   ],
   "source": [
    "np.sum(data['fyear'].apply(pd.value_counts).fillna(0))"
   ]
  },
  {
   "cell_type": "code",
   "execution_count": 56,
   "metadata": {
    "collapsed": false
   },
   "outputs": [
    {
     "data": {
      "text/plain": [
       "AA       15\n",
       "APD      19\n",
       "APFC     14\n",
       "ASH      11\n",
       "ATMR      5\n",
       "AVD      14\n",
       "AVY      17\n",
       "BLL      18\n",
       "BMS      18\n",
       "BPMI      9\n",
       "CAS      16\n",
       "CDE      13\n",
       "CLF      16\n",
       "CMC      16\n",
       "CSKEQ    15\n",
       "DD       17\n",
       "DOW      18\n",
       "DTRX      9\n",
       "ECL      17\n",
       "FMC      14\n",
       "FOE      14\n",
       "FRD      18\n",
       "FRK      14\n",
       "GDRZF     3\n",
       "GEF      17\n",
       "GLT      16\n",
       "GNI      18\n",
       "GRA      16\n",
       "HL       16\n",
       "HMTC      7\n",
       "HPC       9\n",
       "HYDI      4\n",
       "ICOC     15\n",
       "MTRN     14\n",
       "RFP       8\n",
       "RYI       2\n",
       "TRA       7\n",
       "VKSC     11\n",
       "dtype: float64"
      ]
     },
     "execution_count": 56,
     "metadata": {},
     "output_type": "execute_result"
    }
   ],
   "source": [
    "np.sum(data['tic'].apply(pd.value_counts).fillna(0))"
   ]
  },
  {
   "cell_type": "code",
   "execution_count": 30,
   "metadata": {
    "collapsed": false
   },
   "outputs": [],
   "source": []
  }
 ],
 "metadata": {
  "kernelspec": {
   "display_name": "Python 2",
   "language": "python",
   "name": "python2"
  },
  "language_info": {
   "codemirror_mode": {
    "name": "ipython",
    "version": 2
   },
   "file_extension": ".py",
   "mimetype": "text/x-python",
   "name": "python",
   "nbconvert_exporter": "python",
   "pygments_lexer": "ipython2",
   "version": "2.7.11"
  }
 },
 "nbformat": 4,
 "nbformat_minor": 0
}
