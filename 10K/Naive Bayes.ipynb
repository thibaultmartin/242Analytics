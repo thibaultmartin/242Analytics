{
 "cells": [
  {
   "cell_type": "code",
   "execution_count": 11,
   "metadata": {
    "collapsed": false
   },
   "outputs": [],
   "source": [
    "import pandas as pd\n",
    "import nltk\n",
    "import os\n",
    "import re\n",
    "from bs4 import BeautifulSoup\n",
    "import Scraper as scraper\n",
    "from sklearn.cross_validation import train_test_split\n",
    "from sklearn.feature_extraction.text import CountVectorizer\n",
    "from sklearn.naive_bayes import MultinomialNB\n",
    "from sklearn.metrics import classification_report"
   ]
  },
  {
   "cell_type": "markdown",
   "metadata": {},
   "source": [
    "<h3> Data Processing</h3>"
   ]
  },
  {
   "cell_type": "code",
   "execution_count": 2,
   "metadata": {
    "collapsed": true
   },
   "outputs": [],
   "source": [
    "dataset = pd.read_excel('files/Labeling results.xlsx')"
   ]
  },
  {
   "cell_type": "code",
   "execution_count": 3,
   "metadata": {
    "collapsed": false
   },
   "outputs": [
    {
     "data": {
      "text/html": [
       "<div>\n",
       "<table border=\"1\" class=\"dataframe\">\n",
       "  <thead>\n",
       "    <tr style=\"text-align: right;\">\n",
       "      <th></th>\n",
       "      <th>filename</th>\n",
       "      <th>companyname</th>\n",
       "      <th>year</th>\n",
       "      <th>pos</th>\n",
       "    </tr>\n",
       "  </thead>\n",
       "  <tbody>\n",
       "    <tr>\n",
       "      <th>0</th>\n",
       "      <td>0000950123-10-115038.txt</td>\n",
       "      <td>American Pacific Corporation</td>\n",
       "      <td>2010</td>\n",
       "      <td>1</td>\n",
       "    </tr>\n",
       "    <tr>\n",
       "      <th>1</th>\n",
       "      <td>0000950129-06-002726.txt</td>\n",
       "      <td>FREMONT GENERAL CORP</td>\n",
       "      <td>2005</td>\n",
       "      <td>1</td>\n",
       "    </tr>\n",
       "    <tr>\n",
       "      <th>2</th>\n",
       "      <td>0000950134-09-004608.txt</td>\n",
       "      <td>UNITED STATES LIME &amp; MINERALS INC</td>\n",
       "      <td>2008</td>\n",
       "      <td>0</td>\n",
       "    </tr>\n",
       "    <tr>\n",
       "      <th>3</th>\n",
       "      <td>0000950152-07-001610.txt</td>\n",
       "      <td>LUBRIZOL CORP</td>\n",
       "      <td>2006</td>\n",
       "      <td>1</td>\n",
       "    </tr>\n",
       "    <tr>\n",
       "      <th>4</th>\n",
       "      <td>0000807397-98-000073.txt</td>\n",
       "      <td>MARK SOLUTIONS INC</td>\n",
       "      <td>1998</td>\n",
       "      <td>0</td>\n",
       "    </tr>\n",
       "  </tbody>\n",
       "</table>\n",
       "</div>"
      ],
      "text/plain": [
       "                   filename                        companyname  year  pos\n",
       "0  0000950123-10-115038.txt       American Pacific Corporation  2010    1\n",
       "1  0000950129-06-002726.txt               FREMONT GENERAL CORP  2005    1\n",
       "2  0000950134-09-004608.txt  UNITED STATES LIME & MINERALS INC  2008    0\n",
       "3  0000950152-07-001610.txt                      LUBRIZOL CORP  2006    1\n",
       "4  0000807397-98-000073.txt                 MARK SOLUTIONS INC  1998    0"
      ]
     },
     "execution_count": 3,
     "metadata": {},
     "output_type": "execute_result"
    }
   ],
   "source": [
    "dataset.head()"
   ]
  },
  {
   "cell_type": "code",
   "execution_count": 4,
   "metadata": {
    "collapsed": true
   },
   "outputs": [],
   "source": [
    "def extract_MDA(filename):\n",
    "    # Credits for the scraper package go to GROUP 7\n",
    "    mda_text = ''\n",
    "    with open('files/' + filename) as file:\n",
    "        soup = BeautifulSoup(file, \"lxml\")\n",
    "        \n",
    "        # We first try the scrape by regex method\n",
    "        try:\n",
    "            mda_text = scraper.scrapeByRegex(soup)\n",
    "            if mda_text:\n",
    "                mda_text = BeautifulSoup(mda_text, \"html.parser\").get_text()\n",
    "                mda_text = re.sub('[^\\w]', ' ', mda_text)\n",
    "                return mda_text\n",
    "        except:\n",
    "            pass\n",
    "\n",
    "        # We then try the scrapeByAnchorTag method if the previous method didn;t work\n",
    "        try:\n",
    "            mda_text = scraper.scrapeByAnchorTag(soup)\n",
    "            if mda_text:\n",
    "                mda_text = BeautifulSoup(mda_text, \"html.parser\").get_text()\n",
    "                mda_text = re.sub('[^\\w]', ' ', mda_text)\n",
    "                return mda_text\n",
    "        except:\n",
    "            pass"
   ]
  },
  {
   "cell_type": "code",
   "execution_count": 5,
   "metadata": {
    "collapsed": false
   },
   "outputs": [
    {
     "data": {
      "text/html": [
       "<div>\n",
       "<table border=\"1\" class=\"dataframe\">\n",
       "  <thead>\n",
       "    <tr style=\"text-align: right;\">\n",
       "      <th></th>\n",
       "      <th>filename</th>\n",
       "      <th>companyname</th>\n",
       "      <th>year</th>\n",
       "      <th>pos</th>\n",
       "      <th>text</th>\n",
       "    </tr>\n",
       "  </thead>\n",
       "  <tbody>\n",
       "    <tr>\n",
       "      <th>0</th>\n",
       "      <td>0000950123-10-115038.txt</td>\n",
       "      <td>American Pacific Corporation</td>\n",
       "      <td>2010</td>\n",
       "      <td>1</td>\n",
       "      <td>Item 7  Management s     Discussion and Analys...</td>\n",
       "    </tr>\n",
       "    <tr>\n",
       "      <th>1</th>\n",
       "      <td>0000950129-06-002726.txt</td>\n",
       "      <td>FREMONT GENERAL CORP</td>\n",
       "      <td>2005</td>\n",
       "      <td>1</td>\n",
       "      <td>Item 7  Management s Discussion and Analysis o...</td>\n",
       "    </tr>\n",
       "    <tr>\n",
       "      <th>2</th>\n",
       "      <td>0000950134-09-004608.txt</td>\n",
       "      <td>UNITED STATES LIME &amp; MINERALS INC</td>\n",
       "      <td>2008</td>\n",
       "      <td>0</td>\n",
       "      <td>ITEM 7      MANAGEMENT S     DISCUSSION AND AN...</td>\n",
       "    </tr>\n",
       "    <tr>\n",
       "      <th>3</th>\n",
       "      <td>0000950152-07-001610.txt</td>\n",
       "      <td>LUBRIZOL CORP</td>\n",
       "      <td>2006</td>\n",
       "      <td>1</td>\n",
       "      <td>ITEM 7    MANAGEMENT S DISCUSSION AND ANALYSIS...</td>\n",
       "    </tr>\n",
       "    <tr>\n",
       "      <th>4</th>\n",
       "      <td>0000807397-98-000073.txt</td>\n",
       "      <td>MARK SOLUTIONS INC</td>\n",
       "      <td>1998</td>\n",
       "      <td>0</td>\n",
       "      <td>Item 7   Management s Discussion and Analysis ...</td>\n",
       "    </tr>\n",
       "  </tbody>\n",
       "</table>\n",
       "</div>"
      ],
      "text/plain": [
       "                   filename                        companyname  year  pos  \\\n",
       "0  0000950123-10-115038.txt       American Pacific Corporation  2010    1   \n",
       "1  0000950129-06-002726.txt               FREMONT GENERAL CORP  2005    1   \n",
       "2  0000950134-09-004608.txt  UNITED STATES LIME & MINERALS INC  2008    0   \n",
       "3  0000950152-07-001610.txt                      LUBRIZOL CORP  2006    1   \n",
       "4  0000807397-98-000073.txt                 MARK SOLUTIONS INC  1998    0   \n",
       "\n",
       "                                                text  \n",
       "0  Item 7  Management s     Discussion and Analys...  \n",
       "1  Item 7  Management s Discussion and Analysis o...  \n",
       "2  ITEM 7      MANAGEMENT S     DISCUSSION AND AN...  \n",
       "3  ITEM 7    MANAGEMENT S DISCUSSION AND ANALYSIS...  \n",
       "4  Item 7   Management s Discussion and Analysis ...  "
      ]
     },
     "execution_count": 5,
     "metadata": {},
     "output_type": "execute_result"
    }
   ],
   "source": [
    "dataset['text'] = dataset.filename.apply(extract_MDA)\n",
    "dataset.dropna(inplace=True)\n",
    "dataset.head()"
   ]
  },
  {
   "cell_type": "markdown",
   "metadata": {},
   "source": [
    "<h3>Naive Bayes Classification</h3>"
   ]
  },
  {
   "cell_type": "code",
   "execution_count": 6,
   "metadata": {
    "collapsed": false
   },
   "outputs": [],
   "source": [
    "# We split the dataset in train/test ratio: 0.30\n",
    "train_set, test_set = train_test_split(dataset, test_size = 0.30)\n",
    "\n",
    "# We initiate the classifier\n",
    "vectorizer = CountVectorizer(stop_words=\"english\")\n",
    "counts = vectorizer.fit_transform(train_set.text.values)\n",
    "classifier = MultinomialNB(fit_prior=\"False\")                 "
   ]
  },
  {
   "cell_type": "code",
   "execution_count": 7,
   "metadata": {
    "collapsed": false
   },
   "outputs": [
    {
     "data": {
      "text/plain": [
       "MultinomialNB(alpha=1.0, class_prior=None, fit_prior='False')"
      ]
     },
     "execution_count": 7,
     "metadata": {},
     "output_type": "execute_result"
    }
   ],
   "source": [
    "# We fit the training set\n",
    "classifier.fit(counts, train_set.pos.values)"
   ]
  },
  {
   "cell_type": "code",
   "execution_count": 8,
   "metadata": {
    "collapsed": false
   },
   "outputs": [],
   "source": [
    "# Let's do some prediction on the test set\n",
    "predictions = classifier.predict(vectorizer.transform(test_set.text.values)) \n",
    "test_set_pred = pd.Series(predictions, index=test_set.index)"
   ]
  },
  {
   "cell_type": "markdown",
   "metadata": {},
   "source": [
    "<h3>Confusion Matrix</h3>"
   ]
  },
  {
   "cell_type": "code",
   "execution_count": 9,
   "metadata": {
    "collapsed": false
   },
   "outputs": [
    {
     "name": "stdout",
     "output_type": "stream",
     "text": [
      "Predicted  0  1  All\n",
      "Actual              \n",
      "0          5  1    6\n",
      "1          2  1    3\n",
      "All        7  2    9\n"
     ]
    }
   ],
   "source": [
    "tab = pd.crosstab(test_set.pos, test_set_pred, rownames=['Actual'], colnames=['Predicted'], margins=True) # Print confusion matrix\n",
    "print(tab)\n"
   ]
  },
  {
   "cell_type": "markdown",
   "metadata": {},
   "source": [
    "<h3>Classification Report</h3>"
   ]
  },
  {
   "cell_type": "code",
   "execution_count": 10,
   "metadata": {
    "collapsed": false
   },
   "outputs": [
    {
     "name": "stdout",
     "output_type": "stream",
     "text": [
      "             precision    recall  f1-score   support\n",
      "\n",
      "          0       0.71      0.83      0.77         6\n",
      "          1       0.50      0.33      0.40         3\n",
      "\n",
      "avg / total       0.64      0.67      0.65         9\n",
      "\n"
     ]
    }
   ],
   "source": [
    "print(classification_report(test_set.pos, test_set_pred)) # Print accuracy, precision, recall, F measure"
   ]
  }
 ],
 "metadata": {
  "kernelspec": {
   "display_name": "Python 2",
   "language": "python",
   "name": "python2"
  },
  "language_info": {
   "codemirror_mode": {
    "name": "ipython",
    "version": 2
   },
   "file_extension": ".py",
   "mimetype": "text/x-python",
   "name": "python",
   "nbconvert_exporter": "python",
   "pygments_lexer": "ipython2",
   "version": "2.7.11"
  }
 },
 "nbformat": 4,
 "nbformat_minor": 0
}
